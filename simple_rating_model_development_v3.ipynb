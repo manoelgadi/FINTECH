{
 "cells": [
  {
   "cell_type": "code",
   "execution_count": 1,
   "id": "60ea7c94",
   "metadata": {},
   "outputs": [],
   "source": [
    "import pandas as pd"
   ]
  },
  {
   "cell_type": "code",
   "execution_count": null,
   "id": "f5f3d5e4",
   "metadata": {},
   "outputs": [],
   "source": [
    "df = pd.read_excel(\"https://github.com/manoelgadi/FINTECH/raw/main/company_data_full.xlsx\")\n",
    "df"
   ]
  },
  {
   "cell_type": "markdown",
   "id": "4d9dfef6",
   "metadata": {},
   "source": [
    "* _h0, _h1, _h2\n",
    "* _h0: history 0, here h0 means the year 2017 (historia 0, aquí h0 significa el año 2017)\n",
    "* _h1: history -1, here h1 means the year 2016 (historia -1, aquí h1 significa el año 2016)\n",
    "* _h2: history -2, here h2 means the year 2015 (historia -2, aquí h2 significa el año 2015)"
   ]
  },
  {
   "cell_type": "markdown",
   "id": "ce68ae32",
   "metadata": {},
   "source": [
    "* Ebita Margin - Ebitda / Turn over (Ventas)\n",
    "* p49100: Profit (Resultado del ejercicio)\n",
    "* p40800: Amortization (Amortización) \n",
    "* p40100: Sales Turnover (Ingresos de Explotación)\n",
    "* p40500: Other sales (Otros Ingresos)\n"
   ]
  },
  {
   "cell_type": "code",
   "execution_count": null,
   "id": "6faad2df",
   "metadata": {},
   "outputs": [],
   "source": [
    "df.columns"
   ]
  },
  {
   "cell_type": "code",
   "execution_count": null,
   "id": "eb8dc7ac",
   "metadata": {},
   "outputs": [],
   "source": [
    "df['ebitda_income'] = (df.p49100_Profit_h1+df.p40800_Amortization_h1)/(df.p40100_40500_SalesTurnover_h1) \n",
    "df['ebitda_income'] "
   ]
  },
  {
   "cell_type": "markdown",
   "id": "67a3e645",
   "metadata": {},
   "source": [
    "* Total Debt / Ebita \n",
    "* p31200: Short Term Debt / Deuda a corto plazo\n",
    "* p32300: Long Term Debt / Deuda a largo plazo\n",
    "* p49100: Profit (Resultado del ejercicio)\n",
    "* p40800: Amortization (Amortización) "
   ]
  },
  {
   "cell_type": "code",
   "execution_count": null,
   "id": "58c6dbbc",
   "metadata": {},
   "outputs": [],
   "source": [
    "df['debt_ebitda'] =(df.p31200_ShortTermDebt_h1 + df.p32300_LongTermDebt_h1) /(df.p49100_Profit_h1+df.p49100_Profit_h1) \n",
    "df['debt_ebitda']"
   ]
  },
  {
   "cell_type": "markdown",
   "id": "35cb71d1",
   "metadata": {},
   "source": [
    "* rraa_rrpp: Financial leveraging / apalancamiento financiero \n",
    "* p10000: Total Assets / Total activos\n",
    "* p20000: Own Capital / Patrimonio neto\n"
   ]
  },
  {
   "cell_type": "code",
   "execution_count": null,
   "id": "89fff6bf",
   "metadata": {},
   "outputs": [],
   "source": [
    "df['rraa_rrpp'] = (df.p10000_TotalAssets_h1 - df.p20000_OwnCapital_h1) /df.p20000_OwnCapital_h1\n",
    "df['rraa_rrpp']"
   ]
  },
  {
   "cell_type": "markdown",
   "id": "f971ea60",
   "metadata": {},
   "source": [
    "* Log of Operating Income"
   ]
  },
  {
   "cell_type": "code",
   "execution_count": null,
   "id": "d479a93a",
   "metadata": {},
   "outputs": [],
   "source": [
    "import numpy as np\n",
    "df['log_operating_income'] = np.log(df.p40100_40500_SalesTurnover_h1)\n",
    "df['log_operating_income']"
   ]
  },
  {
   "cell_type": "code",
   "execution_count": null,
   "id": "eae79119",
   "metadata": {},
   "outputs": [],
   "source": [
    "from sklearn.ensemble import RandomForestClassifier\n",
    "model = RandomForestClassifier(random_state=1234)"
   ]
  },
  {
   "cell_type": "code",
   "execution_count": null,
   "id": "51c98ed2",
   "metadata": {},
   "outputs": [],
   "source": [
    "df_clean = df[['ebitda_income','debt_ebitda','rraa_rrpp','log_operating_income','target_status']].replace([np.inf, -np.inf], np.nan).dropna()\n",
    "X = df_clean[['ebitda_income','debt_ebitda','rraa_rrpp','log_operating_income']]\n",
    "y = df_clean['target_status']"
   ]
  },
  {
   "cell_type": "code",
   "execution_count": null,
   "id": "10d5e43a",
   "metadata": {},
   "outputs": [],
   "source": [
    "fitted_model = model.fit(X, y)\n",
    "y_pred = fitted_model.predict(X)\n",
    "y_pred_proba = fitted_model.predict_proba(X)[:,1]"
   ]
  },
  {
   "cell_type": "code",
   "execution_count": null,
   "id": "b5d2fd07",
   "metadata": {},
   "outputs": [],
   "source": [
    "y_pred_proba"
   ]
  },
  {
   "cell_type": "code",
   "execution_count": null,
   "id": "832ab2c6",
   "metadata": {},
   "outputs": [],
   "source": [
    "print (\"ASSESSING THE MODEL...\")\n",
    "# CALCULATING GINI PERFORMANCE ON DEVELOPMENT SAMPLE\n",
    "from sklearn.metrics import roc_auc_score\n",
    "gini_score = 2*roc_auc_score(y, y_pred_proba)-1\n",
    "print (\"GINI DEVELOPMENT=\", gini_score)"
   ]
  },
  {
   "cell_type": "code",
   "execution_count": null,
   "id": "9ea8d6db",
   "metadata": {},
   "outputs": [],
   "source": [
    "from sklearn.metrics import accuracy_score\n",
    "print(\"Accuracy: {0}\".format(accuracy_score(y_pred,y)))"
   ]
  },
  {
   "cell_type": "code",
   "execution_count": null,
   "id": "6fa0de07",
   "metadata": {},
   "outputs": [],
   "source": [
    "print (\"SAVING THE PERSISTENT MODEL...\")\n",
    "from joblib import dump#, load\n",
    "dump(fitted_model, 'Rating_RandomForestClassifier.joblib') "
   ]
  },
  {
   "cell_type": "code",
   "execution_count": null,
   "id": "ef0f5fc5",
   "metadata": {},
   "outputs": [],
   "source": []
  }
 ],
 "metadata": {
  "kernelspec": {
   "display_name": "Python 3 (ipykernel)",
   "language": "python",
   "name": "python3"
  },
  "language_info": {
   "codemirror_mode": {
    "name": "ipython",
    "version": 3
   },
   "file_extension": ".py",
   "mimetype": "text/x-python",
   "name": "python",
   "nbconvert_exporter": "python",
   "pygments_lexer": "ipython3",
   "version": "3.11.4"
  }
 },
 "nbformat": 4,
 "nbformat_minor": 5
}
